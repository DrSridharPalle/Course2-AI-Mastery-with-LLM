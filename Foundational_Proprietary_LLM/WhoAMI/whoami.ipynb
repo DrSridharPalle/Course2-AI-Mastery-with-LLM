{
 "cells": [
  {
   "cell_type": "markdown",
   "id": "75e2ef28-594f-4c18-9d22-c6b8cd40ead2",
   "metadata": {},
   "source": [
    "# Who AM I: A Conversational Spiritual Chatbot"
   ]
  },
  {
   "cell_type": "code",
   "execution_count": 1,
   "id": "70e39cd8-ec79-4e3e-9c26-5659d42d0861",
   "metadata": {},
   "outputs": [],
   "source": [
    "# imports\n",
    "\n",
    "import os\n",
    "from dotenv import load_dotenv\n",
    "from openai import OpenAI\n",
    "import gradio as gr\n",
    "\n",
    "from IPython.display import Markdown, display, update_display"
   ]
  },
  {
   "cell_type": "code",
   "execution_count": 2,
   "id": "231605aa-fccb-447e-89cf-8b187444536a",
   "metadata": {},
   "outputs": [],
   "source": [
    "# Load environment variables in a file called .env\n",
    "\n",
    "load_dotenv()\n",
    "os.environ['OPENAI_API_KEY'] = os.getenv('OPENAI_API_KEY', 'your-key-if-not-using-env')\n",
    "# os.environ['ANTHROPIC_API_KEY'] = os.getenv('ANTHROPIC_API_KEY', 'your-key-if-not-using-env')"
   ]
  },
  {
   "cell_type": "code",
   "execution_count": 3,
   "id": "6541d58e-2297-4de1-b1f7-77da1b98b8bb",
   "metadata": {},
   "outputs": [],
   "source": [
    "# Initialize\n",
    "\n",
    "openai = OpenAI()\n",
    "MODEL = 'gpt-4o-mini'"
   ]
  },
  {
   "cell_type": "code",
   "execution_count": 4,
   "id": "e16839b5-c03b-4d9d-add6-87a0f6f37575",
   "metadata": {},
   "outputs": [],
   "source": [
    "# System message for the chatbot\n",
    "system_message = \"\"\"\n",
    "You are WhoAMI, an AI spiritual guide inspired by Indian saints like Sri Ramana Maharshi, Nisargadatta Maharaj, and others who taught Advaita Vedanta (Non-Duality). \n",
    "Your role is to help spiritual aspirants understand the nature of self-realization, self-inquiry, and the teachings of non-dual awareness. \n",
    "Respond in the voice and manner of Sri Ramana Maharshi—calm, insightful, compassionate. \n",
    "Use direct teachings, quotes, or metaphors to convey answers clearly.\n",
    "\n",
    "Key Instructions:\n",
    "- Encourage self-inquiry by emphasizing \"Who am I?\" as the central question.\n",
    "- Offer meditative pointers, introspective practices, or spiritual insights.\n",
    "- Gently redirect irrelevant or mundane questions back to the core inquiry.\n",
    "- Keep responses brief, clear, reflecting the timeless wisdom of Advaita Vedanta, particularly Sri Ramana.\n",
    "- Keep your answers to the point. Elaborate only if asked. Understand the intent of the user's request and reply.\n",
    "- But dont be over dramatic or patronizing. Emulate the style of Sri ramana.\n",
    "\"\"\""
   ]
  },
  {
   "cell_type": "code",
   "execution_count": 5,
   "id": "1eacc8a4-4b48-4358-9e06-ce0020041bc1",
   "metadata": {},
   "outputs": [],
   "source": [
    "# Chat function\n",
    "def chat_with_whoami(message, history):\n",
    "    messages = [{\"role\": \"system\", \"content\": system_message}]\n",
    "    for user_message, assistant_message in history:\n",
    "        messages.append({\"role\": \"user\", \"content\": user_message})\n",
    "        messages.append({\"role\": \"assistant\", \"content\": assistant_message})\n",
    "    messages.append({\"role\": \"user\", \"content\": message})\n",
    "\n",
    "    completion = openai.chat.completions.create(model=\"gpt-4\", messages=messages)\n",
    "\n",
    "    return  completion.choices[0].message.content"
   ]
  },
  {
   "cell_type": "code",
   "execution_count": 6,
   "id": "2f95c169-3717-4e12-bd1c-f739228f4b7a",
   "metadata": {},
   "outputs": [],
   "source": [
    "def chat_with_whoami_stream(message, history):\n",
    "    messages = [{\"role\": \"system\", \"content\": system_message}]\n",
    "    for user_message, assistant_message in history:\n",
    "        messages.append({\"role\": \"user\", \"content\": user_message})\n",
    "        messages.append({\"role\": \"assistant\", \"content\": assistant_message})\n",
    "    messages.append({\"role\": \"user\", \"content\": message})\n",
    "\n",
    "    stream = openai.chat.completions.create(model=MODEL, messages=messages, stream=True)\n",
    "\n",
    "    response = \"\"\n",
    "    for chunk in stream:\n",
    "        response += chunk.choices[0].delta.content or ''\n",
    "        yield f\"🕉️ {response}\""
   ]
  },
  {
   "cell_type": "markdown",
   "id": "1334422a-808f-4147-9c4c-57d63d9780d0",
   "metadata": {},
   "source": [
    "## Gradio for UI"
   ]
  },
  {
   "cell_type": "code",
   "execution_count": 7,
   "id": "0866ca56-100a-44ab-8bd0-1568feaf6bf2",
   "metadata": {},
   "outputs": [],
   "source": [
    "#gr.ChatInterface(fn=chat_with_whoami_stream).launch()"
   ]
  },
  {
   "cell_type": "code",
   "execution_count": 8,
   "id": "9622327d-8389-4e88-8c58-7d79803d2445",
   "metadata": {},
   "outputs": [
    {
     "name": "stderr",
     "output_type": "stream",
     "text": [
      "C:\\Users\\sridh\\anaconda3\\envs\\llms\\Lib\\site-packages\\gradio\\components\\chatbot.py:222: UserWarning: You have not specified a value for the `type` parameter. Defaulting to the 'tuples' format for chatbot messages, but this is deprecated and will be removed in a future version of Gradio. Please set type='messages' instead, which uses openai-style 'role' and 'content' keys.\n",
      "  warnings.warn(\n"
     ]
    },
    {
     "name": "stdout",
     "output_type": "stream",
     "text": [
      "* Running on local URL:  http://127.0.0.1:7860\n",
      "\n",
      "To create a public link, set `share=True` in `launch()`.\n"
     ]
    },
    {
     "data": {
      "text/html": [
       "<div><iframe src=\"http://127.0.0.1:7860/\" width=\"100%\" height=\"500\" allow=\"autoplay; camera; microphone; clipboard-read; clipboard-write;\" frameborder=\"0\" allowfullscreen></iframe></div>"
      ],
      "text/plain": [
       "<IPython.core.display.HTML object>"
      ]
     },
     "metadata": {},
     "output_type": "display_data"
    },
    {
     "data": {
      "text/plain": []
     },
     "execution_count": 8,
     "metadata": {},
     "output_type": "execute_result"
    }
   ],
   "source": [
    "# Gradio Interface with 🕉️ symbol in the title and proper Markdown rendering\n",
    "def simple_ui():\n",
    "    chatbot = gr.Chatbot(label=\"🕉️ WhoAMI - A Spiritual Chatbot\")  # Enable Markdown rendering\n",
    "    return gr.ChatInterface(\n",
    "        fn=chat_with_whoami,  # Use the streaming function\n",
    "        chatbot=chatbot,  # Pass the gr.Chatbot object\n",
    "    )\n",
    "\n",
    "# Launch the UI\n",
    "ui = simple_ui()\n",
    "ui.launch()"
   ]
  },
  {
   "cell_type": "code",
   "execution_count": null,
   "id": "df1028ad-cf8f-444c-9f70-d20df572c3f9",
   "metadata": {},
   "outputs": [],
   "source": []
  }
 ],
 "metadata": {
  "kernelspec": {
   "display_name": "Python 3 (ipykernel)",
   "language": "python",
   "name": "python3"
  },
  "language_info": {
   "codemirror_mode": {
    "name": "ipython",
    "version": 3
   },
   "file_extension": ".py",
   "mimetype": "text/x-python",
   "name": "python",
   "nbconvert_exporter": "python",
   "pygments_lexer": "ipython3",
   "version": "3.11.10"
  }
 },
 "nbformat": 4,
 "nbformat_minor": 5
}
