{
 "cells": [
  {
   "cell_type": "markdown",
   "id": "d8aa23a8-6039-4ef1-9f8e-668e4f321221",
   "metadata": {},
   "source": [
    "# AI Math Problem Generator"
   ]
  },
  {
   "cell_type": "markdown",
   "id": "ee5ac446-c6da-4249-abcf-6c2df089085d",
   "metadata": {},
   "source": [
    "**Import Libraries**"
   ]
  },
  {
   "cell_type": "code",
   "execution_count": 1,
   "id": "bfc99eac-5526-4e52-a943-d0192e1af61a",
   "metadata": {},
   "outputs": [],
   "source": [
    "import os\n",
    "from dotenv import load_dotenv\n",
    "import json\n",
    "\n",
    "from openai import OpenAI\n",
    "from anthropic import Anthropic\n",
    "from google import generativeai\n",
    "\n",
    "import gradio as gr\n",
    "from IPython.display import Markdown, display, update_display"
   ]
  },
  {
   "cell_type": "markdown",
   "id": "1420dfbc-e82f-4761-ba5b-ecc7013bc5bc",
   "metadata": {},
   "source": [
    "**Load API Keys & Connect**"
   ]
  },
  {
   "cell_type": "code",
   "execution_count": 2,
   "id": "2b23659d-7167-4794-816c-83a869187386",
   "metadata": {},
   "outputs": [],
   "source": [
    "load_dotenv()\n",
    "openai_key = os.getenv('OPENAI_API_KEY')\n",
    "anthropic_key = os.getenv('ANTHROPIC_API_KEY')\n",
    "google_key = os.getenv('GOOGLE_API_KEY')"
   ]
  },
  {
   "cell_type": "code",
   "execution_count": 3,
   "id": "d4cb90b0-5efc-47b0-9d4a-dd483e5062c0",
   "metadata": {},
   "outputs": [],
   "source": [
    "# Connect to the corresponding API's\n",
    "gpt = OpenAI(api_key = openai_key)\n",
    "claude = Anthropic(api_key = anthropic_key)\n",
    "generativeai.configure(api_key = google_key)"
   ]
  },
  {
   "cell_type": "markdown",
   "id": "c586168f-e80c-469e-88cd-1cdc78307f9b",
   "metadata": {},
   "source": [
    "**Define System & User Prompts**"
   ]
  },
  {
   "cell_type": "code",
   "execution_count": 4,
   "id": "4563cb4f-d49b-4850-969e-5c83636f36bd",
   "metadata": {},
   "outputs": [],
   "source": [
    "# System Prompt\n",
    "system_prompt = \"You are an expert Math Teacher for students ranging from Grade 1 to Grade 12\""
   ]
  },
  {
   "cell_type": "code",
   "execution_count": 17,
   "id": "3e4fbc8b-f9f4-4790-a947-24a9018fee1b",
   "metadata": {},
   "outputs": [],
   "source": [
    "# Function for User Prompt with three arguments\n",
    "def user_prompt(grade_level,num_problems, problem_type, difficulty_level, humour):\n",
    "    prompt = f\"\"\"\n",
    "    Generate {num_problems} math problems for Grade:{grade_level} and at a {difficulty_level} level for math problems of type:{problem_type}.\n",
    "    You can also create problems with this characteristic {humour}.\n",
    "    \n",
    "    Use the following format:\n",
    "    {problem_type}\n",
    "    --------------\n",
    "    'PROBLEMS:'\n",
    "        Problem 1. \n",
    "        Problem 2.\n",
    "        ...\n",
    "        ...\n",
    "    \n",
    "    Then, list the solutions similarly in a separate section labeled 'SOLUTIONS:' for each of the problem like shown below:\n",
    "    'SOLUTION:'\n",
    "    Solution 1.\n",
    "    Solution 2.\n",
    "    ...\n",
    "    ...\n",
    "    \"\"\"\n",
    "    return prompt"
   ]
  },
  {
   "cell_type": "markdown",
   "id": "96316e12-f812-4c6d-b21f-4720a51757cb",
   "metadata": {},
   "source": [
    "### OpenAI - GPT Models"
   ]
  },
  {
   "cell_type": "markdown",
   "id": "1d925d8f-ff2d-4141-af44-0e52f792a67f",
   "metadata": {},
   "source": [
    "**Function to call OpenAI LLMS**"
   ]
  },
  {
   "cell_type": "code",
   "execution_count": 18,
   "id": "b2c47dbf-8658-4d87-a983-77ca241300d1",
   "metadata": {},
   "outputs": [],
   "source": [
    "def math_problems_gpt(grade_level, num_problems, problem_type,difficulty_level, humour):\n",
    "    completion = gpt.chat.completions.create(\n",
    "        model = \"gpt-4o-mini\",\n",
    "        messages = [\n",
    "            {\"role\":\"system\", \"content\": system_prompt},\n",
    "            {\"role\":\"user\", \"content\": user_prompt(grade_level, num_problems,problem_type,difficulty_level, humour)}\n",
    "        ]\n",
    "    )\n",
    "    result = completion.choices[0].message.content\n",
    "    return result"
   ]
  },
  {
   "cell_type": "code",
   "execution_count": 19,
   "id": "f2f9acd8-2800-4257-83b5-a1c467bec287",
   "metadata": {},
   "outputs": [
    {
     "name": "stdout",
     "output_type": "stream",
     "text": [
      "Decimals-based Algebra  \n",
      "--------------  \n",
      "'PROBLEMS:'  \n",
      "Problem 1. Superhero Sam has 5.75 super stickers. He loses 1.25 stickers during a villain battle! How many stickers does Sam have left?  \n",
      "\n",
      "Problem 2. Tilly the Turtle runs 3.2 meters every day. If Tilly runs for 4.5 days, how many meters does she run in total?  \n",
      "\n",
      "Problem 3. Mr. Fluffypaws the cat has a collection of 6.8 fish toys. He gives away 2.3 toys to his friends. How many fish toys does Mr. Fluffypaws have now?  \n",
      "\n",
      "Problem 4. A magical spell costs 4.99 gumballs. If Penny has 20.00 gumballs, how many gumballs does she have left after buying the spell?  \n",
      "\n",
      "Problem 5. Jenna bought 2.5 liters of rainbow juice for her party. If her friends drink 1.6 liters, how much rainbow juice is left for Jenna to enjoy?  \n",
      "\n",
      "'SOLUTION:'  \n",
      "Solution 1. Sam has 5.75 - 1.25 = 4.50 super stickers left.  \n",
      "\n",
      "Solution 2. Tilly runs 3.2 x 4.5 = 14.40 meters in total.  \n",
      "\n",
      "Solution 3. Mr. Fluffypaws has 6.8 - 2.3 = 4.5 fish toys left.  \n",
      "\n",
      "Solution 4. Penny has 20.00 - 4.99 = 15.01 gumballs left.  \n",
      "\n",
      "Solution 5. Jenna has 2.5 - 1.6 = 0.9 liters of rainbow juice left.\n"
     ]
    }
   ],
   "source": [
    "print (math_problems_gpt(4, 5,\"Decimals-based Algebra\",\"Difficult\", \"Funny\"))"
   ]
  },
  {
   "cell_type": "markdown",
   "id": "7c51ac68-3d39-4fb7-bb04-238b41242fc3",
   "metadata": {},
   "source": [
    "**Function to call OpenAI LLM's with streaming**"
   ]
  },
  {
   "cell_type": "code",
   "execution_count": 20,
   "id": "dccac5d0-ee88-47af-b6f5-d801e7073de6",
   "metadata": {},
   "outputs": [],
   "source": [
    "def stream_math_problems_gpt(grade_level, num_problems,problem_type,difficulty_level, humour):\n",
    "    completion = gpt.chat.completions.create(\n",
    "        model = \"gpt-4o-mini\",\n",
    "        messages = [\n",
    "            {\"role\":\"system\", \"content\": system_prompt},\n",
    "            {\"role\":\"user\", \"content\": user_prompt(grade_level, num_problems,problem_type,difficulty_level, humour)}\n",
    "        ],\n",
    "        stream=True\n",
    "    )\n",
    "\n",
    "\n",
    "    result = \"\"\n",
    "    for text in completion:\n",
    "        result += text.choices[0].delta.content or \"\"\n",
    "        yield result"
   ]
  },
  {
   "cell_type": "markdown",
   "id": "ffc572e7-1ea7-4e6e-adb8-5324e6d83077",
   "metadata": {},
   "source": [
    "### Anthropic  Claude Models"
   ]
  },
  {
   "cell_type": "markdown",
   "id": "f783a13a-ff59-405c-8653-e471c77d0f0c",
   "metadata": {},
   "source": [
    "**Function to call Claude model**"
   ]
  },
  {
   "cell_type": "code",
   "execution_count": 21,
   "id": "afb7dd16-849d-434a-ba4f-69dd9e42a67d",
   "metadata": {},
   "outputs": [],
   "source": [
    "def math_problems_claude(grade_level, num_problems, problem_type,difficulty_level, humour):\n",
    "    completion = claude.messages.create(\n",
    "        model = \"claude-3-haiku-20240307\",\n",
    "        max_tokens=1000,\n",
    "        system = system_prompt,\n",
    "        messages = [\n",
    "            {\"role\":\"user\", \"content\": user_prompt(grade_level, num_problems,problem_type,difficulty_level, humour)}\n",
    "        ]\n",
    "    )\n",
    "\n",
    "    result = completion.content[0].text\n",
    "    return result"
   ]
  },
  {
   "cell_type": "markdown",
   "id": "b172a733-da98-4324-8cfa-40f55470fa35",
   "metadata": {},
   "source": [
    "**Function to call Claude Models with streaming**"
   ]
  },
  {
   "cell_type": "code",
   "execution_count": 22,
   "id": "0ee702f7-5c71-4bae-ad5e-b998c5e6552b",
   "metadata": {},
   "outputs": [],
   "source": [
    "def stream_math_problems_claude(grade_level, num_problems, problem_type,difficulty_level, humour):\n",
    "    completion = claude.messages.stream(\n",
    "        model = \"claude-3-haiku-20240307\",\n",
    "        max_tokens=1000,\n",
    "        system = system_prompt,\n",
    "        messages = [\n",
    "            {\"role\":\"user\", \"content\": user_prompt(grade_level, num_problems,problem_type,difficulty_level, humour)}\n",
    "        ]\n",
    "    )\n",
    "\n",
    "    result = \"\"\n",
    "    with completion as stream:\n",
    "        for text in stream.text_stream:\n",
    "            result += text or \"\"\n",
    "            yield result"
   ]
  },
  {
   "cell_type": "code",
   "execution_count": 23,
   "id": "2b2c4198-0c2f-45a4-bec2-fa7bf74299b5",
   "metadata": {},
   "outputs": [],
   "source": [
    "def math_problems(grade_level,num_problems, problem_type,difficulty_level, humour, model):\n",
    "    if model == \"Gpt\":\n",
    "        result = stream_math_problems_gpt(grade_level,num_problems, problem_type,difficulty_level, humour)\n",
    "    elif model == \"Claude\":\n",
    "        result = stream_math_problems_claude(grade_level,num_problems, problem_type,difficulty_level, humour)\n",
    "        \n",
    "    for chunk in result:\n",
    "        yield chunk"
   ]
  },
  {
   "cell_type": "markdown",
   "id": "1e825e69-b481-4d0b-afec-a20ff98151ff",
   "metadata": {},
   "source": [
    "### Simple Gradio UI"
   ]
  },
  {
   "cell_type": "code",
   "execution_count": 24,
   "id": "bed27d77-ecb3-4c76-989f-d04eb3cebf65",
   "metadata": {},
   "outputs": [],
   "source": [
    "# All you need is to define the function which u want to call in the interface\n",
    "# specify the function arguments as inputs: Textboxes, dropdowns etc.\n",
    "# specify the corresponding Textbox for the output."
   ]
  },
  {
   "cell_type": "code",
   "execution_count": 25,
   "id": "81a529e8-5c48-4084-a7f3-ae1cca7caf60",
   "metadata": {},
   "outputs": [
    {
     "name": "stderr",
     "output_type": "stream",
     "text": [
      "C:\\Users\\sridh\\anaconda3\\envs\\llms\\Lib\\site-packages\\gradio\\interface.py:393: UserWarning: The `allow_flagging` parameter in `Interface` is deprecated.Use `flagging_mode` instead.\n",
      "  warnings.warn(\n"
     ]
    },
    {
     "name": "stdout",
     "output_type": "stream",
     "text": [
      "* Running on local URL:  http://127.0.0.1:7861\n",
      "\n",
      "To create a public link, set `share=True` in `launch()`.\n"
     ]
    },
    {
     "data": {
      "text/html": [
       "<div><iframe src=\"http://127.0.0.1:7861/\" width=\"100%\" height=\"500\" allow=\"autoplay; camera; microphone; clipboard-read; clipboard-write;\" frameborder=\"0\" allowfullscreen></iframe></div>"
      ],
      "text/plain": [
       "<IPython.core.display.HTML object>"
      ]
     },
     "metadata": {},
     "output_type": "display_data"
    },
    {
     "data": {
      "text/plain": []
     },
     "execution_count": 25,
     "metadata": {},
     "output_type": "execute_result"
    }
   ],
   "source": [
    "# Gradio interface\n",
    "view = gr.Interface(\n",
    "    fn=math_problems,\n",
    "    inputs=[\n",
    "        gr.Textbox(label = \"Grade Level:\", value=5),\n",
    "        gr.Textbox(label=\"Number of Problems:\", value = 5),\n",
    "        gr.Dropdown(choices=[\"Decimals-based Algebra\", \"Algebra\", \"Word Order Problems\", \"Geometry Problems\" ], \n",
    "                    label=\"Type of Problems\",value=\"Algebra\"),\n",
    "        gr.Dropdown(choices=[\"Easy\", \"Medium\", \"Difficult\"], label=\"Difficulty Level\", value=\"Easy\"),\n",
    "        gr.Dropdown(choices=[\"Funny\", \"Scary\", \"Boring\"], label=\"Tone\", value=\"Boring\"),\n",
    "        gr.Dropdown(choices=[\"Gpt\", \"Claude\"], label=\"AI Model\", value=\"Gpt\")\n",
    "    ], # number of inputs here need to match the arguments needed by the function which gradio will use (math\n",
    "    outputs=[\n",
    "        gr.Textbox(label = \"Result\"),\n",
    "    ],\n",
    "    allow_flagging=\"never\"\n",
    ")\n",
    "view.launch()"
   ]
  },
  {
   "cell_type": "code",
   "execution_count": null,
   "id": "1efe5f87-e4f2-48d1-b066-65d110e949b3",
   "metadata": {},
   "outputs": [],
   "source": []
  }
 ],
 "metadata": {
  "kernelspec": {
   "display_name": "Python 3 (ipykernel)",
   "language": "python",
   "name": "python3"
  },
  "language_info": {
   "codemirror_mode": {
    "name": "ipython",
    "version": 3
   },
   "file_extension": ".py",
   "mimetype": "text/x-python",
   "name": "python",
   "nbconvert_exporter": "python",
   "pygments_lexer": "ipython3",
   "version": "3.11.10"
  }
 },
 "nbformat": 4,
 "nbformat_minor": 5
}
