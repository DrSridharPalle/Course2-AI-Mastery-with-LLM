{
 "cells": [
  {
   "cell_type": "markdown",
   "id": "f125b8c1-fa7a-4933-ad29-15366336db8b",
   "metadata": {},
   "source": [
    "## Fine-tuning TinyLlama using Ultrachat dataset"
   ]
  },
  {
   "cell_type": "code",
   "execution_count": 1,
   "id": "edaa0e91-6084-46af-baf4-b9166f063523",
   "metadata": {},
   "outputs": [],
   "source": [
    "from transformers import AutoTokenizer\n",
    "from datasets import load_dataset"
   ]
  },
  {
   "cell_type": "markdown",
   "id": "4cf8d635-b3f7-4e2c-81f9-3a45200345d6",
   "metadata": {},
   "source": [
    "### Lets load & explore the Ultrachat dataset"
   ]
  },
  {
   "cell_type": "code",
   "execution_count": 13,
   "id": "88541cef-5447-42c6-83aa-7efcadbfb129",
   "metadata": {},
   "outputs": [],
   "source": [
    "# Load a small subset of Ultrachat dataset\n",
    "dataset = (\n",
    "    load_dataset(\"HuggingFaceH4/ultrachat_200k\",  split=\"test_sft\")\n",
    "      .shuffle(seed=42)\n",
    "      .select(range(3_000))\n",
    ")"
   ]
  },
  {
   "cell_type": "code",
   "execution_count": 14,
   "id": "630bbe2b-a671-42f8-8aeb-e463ba226a39",
   "metadata": {},
   "outputs": [
    {
     "data": {
      "text/plain": [
       "Dataset({\n",
       "    features: ['prompt', 'prompt_id', 'messages'],\n",
       "    num_rows: 3000\n",
       "})"
      ]
     },
     "execution_count": 14,
     "metadata": {},
     "output_type": "execute_result"
    }
   ],
   "source": [
    "dataset"
   ]
  },
  {
   "cell_type": "code",
   "execution_count": 26,
   "id": "9ca870b3-2c2e-40e1-b2b6-bbd327e6ba76",
   "metadata": {},
   "outputs": [
    {
     "data": {
      "text/plain": [
       "'Does the University of Pennsylvania offer any programs for non-traditional students?'"
      ]
     },
     "execution_count": 26,
     "metadata": {},
     "output_type": "execute_result"
    }
   ],
   "source": [
    "dataset['prompt'][2]"
   ]
  },
  {
   "cell_type": "code",
   "execution_count": 27,
   "id": "bfd1b479-6bba-4d4f-b806-88fd5a842702",
   "metadata": {},
   "outputs": [
    {
     "data": {
      "text/plain": [
       "[{'content': 'Does the University of Pennsylvania offer any programs for non-traditional students?',\n",
       "  'role': 'user'},\n",
       " {'content': 'Yes, the University of Pennsylvania offers several programs for non-traditional students, including:\\n\\n1. Penn LPS Online: This program offers online courses and degree programs for non-traditional students who wish to earn a degree from Penn. It offers several undergraduate and graduate degree programs.\\n\\n2. College of Liberal and Professional Studies: This program offers a variety of degree programs, including full-time, part-time, online, and on-campus options. It is designed for working professionals and those who wish to complete their degree later in life.\\n\\n3. Executive Education: This program offers short-term, intensive courses for working professionals who wish to enhance their skills and knowledge in their field.\\n\\n4. Summer Sessions: This program offers summer courses for undergraduate and graduate students, including non-traditional students who wish to complete their degree faster.\\n\\n5. Continuing Education: This program offers non-credit courses and workshops for professionals and individuals who wish to enhance their skills and knowledge in specific areas.',\n",
       "  'role': 'assistant'},\n",
       " {'content': \"Oh, that's great! Which program would you recommend for someone who wants to study part-time while working?\",\n",
       "  'role': 'user'},\n",
       " {'content': \"If you're looking to study part-time while working, I would recommend the College of Liberal and Professional Studies (LPS). LPS offers part-time options for undergraduate and graduate programs, as well as flexible schedules that can accommodate the needs of working adults. They also have online and on-campus courses available, depending on your preferences. Additionally, LPS has a variety of certificate programs that allow you to take courses in a specific area without committing to a full degree program. This can be a great option if you want to enhance your skills and knowledge in a specific area while working.\",\n",
       "  'role': 'assistant'},\n",
       " {'content': \"That sounds perfect! Can you tell me more about the certificate programs offered by LPS? I'm interested in gaining some new skills without committing to a full degree program.\",\n",
       "  'role': 'user'},\n",
       " {'content': 'Sure! The College of Liberal and Professional Studies (LPS) offers a variety of certificate programs in different fields. These programs are designed to provide focused coursework and training in a specific area, without the commitment of a full degree program. \\n\\nSome of the certificate programs offered by LPS include:\\n \\n1. Advanced Analytics: This program covers advanced data analysis techniques and principles, and prepares graduates for a career in data analytics.\\n\\n2. Business and Public Policy: This program covers the intersection of business and public policy, and prepares graduates to work in policy-making or public service.\\n\\n3. Nonprofit Administration: This program covers the fundamentals of nonprofit management, and prepares graduates to lead and manage nonprofit organizations.\\n\\n4. Organizational Dynamics: This program focuses on organizational behavior, and prepares graduates to manage people and organizations effectively.\\n\\n5. Project Management: This program covers project management principles and techniques, and prepares graduates for a career in project management.\\n\\nThese are just a few examples of the many certificate programs offered by LPS. Each program has its own specific requirements and coursework, so I would recommend checking out the LPS website for more information on each program.',\n",
       "  'role': 'assistant'}]"
      ]
     },
     "execution_count": 27,
     "metadata": {},
     "output_type": "execute_result"
    }
   ],
   "source": [
    "dataset['messages'][2]"
   ]
  },
  {
   "cell_type": "markdown",
   "id": "633c68c2-8541-4908-9b48-1510de709571",
   "metadata": {},
   "source": [
    "### Convert this instruction dataset into a chat template dataset"
   ]
  },
  {
   "cell_type": "code",
   "execution_count": 18,
   "id": "11330aa4-7f10-43c9-b3c1-934ed78d1d53",
   "metadata": {},
   "outputs": [],
   "source": [
    "# Instruction dataset is typically prepared as a chat template.\n",
    "# We can use the same template as the chat version of TinyLlama\n",
    "\n",
    "template_tokenizer = AutoTokenizer.from_pretrained(\"TinyLlama/TinyLlama-1.1B-Chat-v1.0\")"
   ]
  },
  {
   "cell_type": "code",
   "execution_count": 3,
   "id": "f94e2d7c-cb4d-4eab-9d23-396a369482ef",
   "metadata": {},
   "outputs": [],
   "source": [
    "# A simple function to format the dataset into a chat template used by TinyLlama\n",
    "def format_prompt(example):\n",
    "    \"\"\"Format the prompt to using the <|user|> template TinyLLama is using\"\"\"\n",
    "\n",
    "    # Format answers\n",
    "    chat = example[\"messages\"]\n",
    "    prompt = template_tokenizer.apply_chat_template(chat, tokenize=False)\n",
    "\n",
    "    return {\"text\": prompt}"
   ]
  },
  {
   "cell_type": "code",
   "execution_count": 21,
   "id": "3ce3a730-464e-4470-9138-fed995a57f50",
   "metadata": {},
   "outputs": [],
   "source": [
    "dataset = dataset.map(format_prompt)"
   ]
  },
  {
   "cell_type": "code",
   "execution_count": 22,
   "id": "bc9bad0d-d682-4b51-9987-c37e64f78386",
   "metadata": {},
   "outputs": [
    {
     "data": {
      "text/plain": [
       "Dataset({\n",
       "    features: ['prompt', 'prompt_id', 'messages', 'text'],\n",
       "    num_rows: 3000\n",
       "})"
      ]
     },
     "execution_count": 22,
     "metadata": {},
     "output_type": "execute_result"
    }
   ],
   "source": [
    "dataset"
   ]
  },
  {
   "cell_type": "code",
   "execution_count": 29,
   "id": "c3d52226-c905-42b2-93c2-c01105419781",
   "metadata": {},
   "outputs": [
    {
     "name": "stdout",
     "output_type": "stream",
     "text": [
      "<|user|>\n",
      "Does the University of Pennsylvania offer any programs for non-traditional students?</s>\n",
      "<|assistant|>\n",
      "Yes, the University of Pennsylvania offers several programs for non-traditional students, including:\n",
      "\n",
      "1. Penn LPS Online: This program offers online courses and degree programs for non-traditional students who wish to earn a degree from Penn. It offers several undergraduate and graduate degree programs.\n",
      "\n",
      "2. College of Liberal and Professional Studies: This program offers a variety of degree programs, including full-time, part-time, online, and on-campus options. It is designed for working professionals and those who wish to complete their degree later in life.\n",
      "\n",
      "3. Executive Education: This program offers short-term, intensive courses for working professionals who wish to enhance their skills and knowledge in their field.\n",
      "\n",
      "4. Summer Sessions: This program offers summer courses for undergraduate and graduate students, including non-traditional students who wish to complete their degree faster.\n",
      "\n",
      "5. Continuing Education: This program offers non-credit courses and workshops for professionals and individuals who wish to enhance their skills and knowledge in specific areas.</s>\n",
      "<|user|>\n",
      "Oh, that's great! Which program would you recommend for someone who wants to study part-time while working?</s>\n",
      "<|assistant|>\n",
      "If you're looking to study part-time while working, I would recommend the College of Liberal and Professional Studies (LPS). LPS offers part-time options for undergraduate and graduate programs, as well as flexible schedules that can accommodate the needs of working adults. They also have online and on-campus courses available, depending on your preferences. Additionally, LPS has a variety of certificate programs that allow you to take courses in a specific area without committing to a full degree program. This can be a great option if you want to enhance your skills and knowledge in a specific area while working.</s>\n",
      "<|user|>\n",
      "That sounds perfect! Can you tell me more about the certificate programs offered by LPS? I'm interested in gaining some new skills without committing to a full degree program.</s>\n",
      "<|assistant|>\n",
      "Sure! The College of Liberal and Professional Studies (LPS) offers a variety of certificate programs in different fields. These programs are designed to provide focused coursework and training in a specific area, without the commitment of a full degree program. \n",
      "\n",
      "Some of the certificate programs offered by LPS include:\n",
      " \n",
      "1. Advanced Analytics: This program covers advanced data analysis techniques and principles, and prepares graduates for a career in data analytics.\n",
      "\n",
      "2. Business and Public Policy: This program covers the intersection of business and public policy, and prepares graduates to work in policy-making or public service.\n",
      "\n",
      "3. Nonprofit Administration: This program covers the fundamentals of nonprofit management, and prepares graduates to lead and manage nonprofit organizations.\n",
      "\n",
      "4. Organizational Dynamics: This program focuses on organizational behavior, and prepares graduates to manage people and organizations effectively.\n",
      "\n",
      "5. Project Management: This program covers project management principles and techniques, and prepares graduates for a career in project management.\n",
      "\n",
      "These are just a few examples of the many certificate programs offered by LPS. Each program has its own specific requirements and coursework, so I would recommend checking out the LPS website for more information on each program.</s>\n",
      "\n"
     ]
    }
   ],
   "source": [
    "print (dataset['text'][2])"
   ]
  },
  {
   "cell_type": "code",
   "execution_count": null,
   "id": "6f495d48-8f1f-447b-b4ab-2b26b41b6fe1",
   "metadata": {},
   "outputs": [],
   "source": []
  }
 ],
 "metadata": {
  "kernelspec": {
   "display_name": "Python 3 (ipykernel)",
   "language": "python",
   "name": "python3"
  },
  "language_info": {
   "codemirror_mode": {
    "name": "ipython",
    "version": 3
   },
   "file_extension": ".py",
   "mimetype": "text/x-python",
   "name": "python",
   "nbconvert_exporter": "python",
   "pygments_lexer": "ipython3",
   "version": "3.11.10"
  }
 },
 "nbformat": 4,
 "nbformat_minor": 5
}
